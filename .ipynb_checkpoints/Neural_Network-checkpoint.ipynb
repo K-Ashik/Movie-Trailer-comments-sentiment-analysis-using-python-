{
 "cells": [
  {
   "cell_type": "markdown",
   "id": "e9eb459b",
   "metadata": {
    "id": "e9eb459b"
   },
   "source": [
    "<font size=\"5\">**NEURAL NETWORK**</font>"
   ]
  },
  {
   "cell_type": "markdown",
   "id": "66e18db8",
   "metadata": {
    "id": "66e18db8"
   },
   "source": [
    "**PRE-PROCESSING STEPS**"
   ]
  },
  {
   "cell_type": "markdown",
   "id": "6384e32e",
   "metadata": {
    "id": "6384e32e"
   },
   "source": [
    "The following cell has steps involving importing of necessary libraries and also defining functions for pre-processing steps such as removal of emojis, punctuations from the reviews. Also, function for removal of stopwords along with the function for lemmatization.\n",
    "Next step involves reading the csv and storing it in the dataframe."
   ]
  },
  {
   "cell_type": "code",
   "execution_count": 1,
   "id": "7ceeb57f",
   "metadata": {
    "colab": {
     "base_uri": "https://localhost:8080/"
    },
    "id": "7ceeb57f",
    "outputId": "841a3916-eacc-489e-b4b9-94238c572db3"
   },
   "outputs": [
    {
     "name": "stdout",
     "output_type": "stream",
     "text": [
      "Note: you may need to restart the kernel to use updated packages.Requirement already satisfied: emoji in c:\\users\\meghna\\anaconda3\\lib\\site-packages (1.7.0)\n",
      "\n"
     ]
    },
    {
     "name": "stderr",
     "output_type": "stream",
     "text": [
      "WARNING: Ignoring invalid distribution -illow (c:\\users\\meghna\\anaconda3\\lib\\site-packages)\n",
      "WARNING: Ignoring invalid distribution -illow (c:\\users\\meghna\\anaconda3\\lib\\site-packages)\n",
      "WARNING: Ignoring invalid distribution -illow (c:\\users\\meghna\\anaconda3\\lib\\site-packages)\n",
      "WARNING: Ignoring invalid distribution -illow (c:\\users\\meghna\\anaconda3\\lib\\site-packages)\n",
      "WARNING: Ignoring invalid distribution -illow (c:\\users\\meghna\\anaconda3\\lib\\site-packages)\n",
      "WARNING: Ignoring invalid distribution -illow (c:\\users\\meghna\\anaconda3\\lib\\site-packages)\n"
     ]
    },
    {
     "name": "stdout",
     "output_type": "stream",
     "text": [
      "Requirement already satisfied: tensorflow in c:\\users\\meghna\\anaconda3\\lib\\site-packages (2.10.0)Note: you may need to restart the kernel to use updated packages.\n",
      "\n",
      "Requirement already satisfied: astunparse>=1.6.0 in c:\\users\\meghna\\anaconda3\\lib\\site-packages (from tensorflow) (1.6.3)\n",
      "Requirement already satisfied: grpcio<2.0,>=1.24.3 in c:\\users\\meghna\\anaconda3\\lib\\site-packages (from tensorflow) (1.42.0)\n",
      "Requirement already satisfied: tensorflow-estimator<2.11,>=2.10.0 in c:\\users\\meghna\\anaconda3\\lib\\site-packages (from tensorflow) (2.10.0)\n",
      "Requirement already satisfied: tensorflow-io-gcs-filesystem>=0.23.1 in c:\\users\\meghna\\anaconda3\\lib\\site-packages (from tensorflow) (0.29.0)\n",
      "Requirement already satisfied: google-pasta>=0.1.1 in c:\\users\\meghna\\anaconda3\\lib\\site-packages (from tensorflow) (0.2.0)\n",
      "Requirement already satisfied: packaging in c:\\users\\meghna\\anaconda3\\lib\\site-packages (from tensorflow) (22.0)\n",
      "Requirement already satisfied: h5py>=2.9.0 in c:\\users\\meghna\\anaconda3\\lib\\site-packages (from tensorflow) (3.7.0)\n",
      "Requirement already satisfied: flatbuffers>=2.0 in c:\\users\\meghna\\anaconda3\\lib\\site-packages (from tensorflow) (22.12.6)\n",
      "Requirement already satisfied: wrapt>=1.11.0 in c:\\users\\meghna\\anaconda3\\lib\\site-packages (from tensorflow) (1.12.1)\n",
      "Requirement already satisfied: setuptools in c:\\users\\meghna\\anaconda3\\lib\\site-packages (from tensorflow) (65.5.0)\n",
      "Requirement already satisfied: termcolor>=1.1.0 in c:\\users\\meghna\\anaconda3\\lib\\site-packages (from tensorflow) (2.2.0)\n",
      "Requirement already satisfied: numpy>=1.20 in c:\\users\\meghna\\anaconda3\\lib\\site-packages (from tensorflow) (1.21.5)\n",
      "Requirement already satisfied: gast<=0.4.0,>=0.2.1 in c:\\users\\meghna\\anaconda3\\lib\\site-packages (from tensorflow) (0.4.0)\n",
      "Requirement already satisfied: protobuf<3.20,>=3.9.2 in c:\\users\\meghna\\anaconda3\\lib\\site-packages (from tensorflow) (3.19.6)\n",
      "Requirement already satisfied: opt-einsum>=2.3.2 in c:\\users\\meghna\\anaconda3\\lib\\site-packages (from tensorflow) (3.3.0)\n",
      "Requirement already satisfied: keras<2.11,>=2.10.0 in c:\\users\\meghna\\anaconda3\\lib\\site-packages (from tensorflow) (2.10.0)\n",
      "Requirement already satisfied: keras-preprocessing>=1.1.1 in c:\\users\\meghna\\anaconda3\\lib\\site-packages (from tensorflow) (1.1.2)\n",
      "Requirement already satisfied: absl-py>=1.0.0 in c:\\users\\meghna\\anaconda3\\lib\\site-packages (from tensorflow) (1.3.0)\n",
      "Requirement already satisfied: tensorboard<2.11,>=2.10 in c:\\users\\meghna\\anaconda3\\lib\\site-packages (from tensorflow) (2.10.0)\n",
      "Requirement already satisfied: libclang>=13.0.0 in c:\\users\\meghna\\anaconda3\\lib\\site-packages (from tensorflow) (15.0.6.1)\n",
      "Requirement already satisfied: typing-extensions>=3.6.6 in c:\\users\\meghna\\anaconda3\\lib\\site-packages (from tensorflow) (4.4.0)\n",
      "Requirement already satisfied: six>=1.12.0 in c:\\users\\meghna\\anaconda3\\lib\\site-packages (from tensorflow) (1.16.0)\n",
      "Requirement already satisfied: wheel<1.0,>=0.23.0 in c:\\users\\meghna\\anaconda3\\lib\\site-packages (from astunparse>=1.6.0->tensorflow) (0.37.1)\n",
      "Requirement already satisfied: google-auth<3,>=1.6.3 in c:\\users\\meghna\\anaconda3\\lib\\site-packages (from tensorboard<2.11,>=2.10->tensorflow) (2.15.0)\n",
      "Requirement already satisfied: tensorboard-plugin-wit>=1.6.0 in c:\\users\\meghna\\anaconda3\\lib\\site-packages (from tensorboard<2.11,>=2.10->tensorflow) (1.8.1)\n",
      "Requirement already satisfied: markdown>=2.6.8 in c:\\users\\meghna\\anaconda3\\lib\\site-packages (from tensorboard<2.11,>=2.10->tensorflow) (3.4.1)\n",
      "Requirement already satisfied: werkzeug>=1.0.1 in c:\\users\\meghna\\anaconda3\\lib\\site-packages (from tensorboard<2.11,>=2.10->tensorflow) (2.0.3)\n",
      "Requirement already satisfied: tensorboard-data-server<0.7.0,>=0.6.0 in c:\\users\\meghna\\anaconda3\\lib\\site-packages (from tensorboard<2.11,>=2.10->tensorflow) (0.6.1)\n",
      "Requirement already satisfied: google-auth-oauthlib<0.5,>=0.4.1 in c:\\users\\meghna\\anaconda3\\lib\\site-packages (from tensorboard<2.11,>=2.10->tensorflow) (0.4.6)\n",
      "Requirement already satisfied: requests<3,>=2.21.0 in c:\\users\\meghna\\anaconda3\\lib\\site-packages (from tensorboard<2.11,>=2.10->tensorflow) (2.28.1)\n",
      "Requirement already satisfied: rsa<5,>=3.1.4 in c:\\users\\meghna\\anaconda3\\lib\\site-packages (from google-auth<3,>=1.6.3->tensorboard<2.11,>=2.10->tensorflow) (4.9)\n",
      "Requirement already satisfied: pyasn1-modules>=0.2.1 in c:\\users\\meghna\\anaconda3\\lib\\site-packages (from google-auth<3,>=1.6.3->tensorboard<2.11,>=2.10->tensorflow) (0.2.8)\n",
      "Requirement already satisfied: cachetools<6.0,>=2.0.0 in c:\\users\\meghna\\anaconda3\\lib\\site-packages (from google-auth<3,>=1.6.3->tensorboard<2.11,>=2.10->tensorflow) (5.2.0)\n",
      "Requirement already satisfied: requests-oauthlib>=0.7.0 in c:\\users\\meghna\\anaconda3\\lib\\site-packages (from google-auth-oauthlib<0.5,>=0.4.1->tensorboard<2.11,>=2.10->tensorflow) (1.3.1)\n",
      "Requirement already satisfied: importlib-metadata>=4.4 in c:\\users\\meghna\\anaconda3\\lib\\site-packages (from markdown>=2.6.8->tensorboard<2.11,>=2.10->tensorflow) (4.11.3)\n",
      "Requirement already satisfied: certifi>=2017.4.17 in c:\\users\\meghna\\anaconda3\\lib\\site-packages (from requests<3,>=2.21.0->tensorboard<2.11,>=2.10->tensorflow) (2022.12.7)\n",
      "Requirement already satisfied: idna<4,>=2.5 in c:\\users\\meghna\\anaconda3\\lib\\site-packages (from requests<3,>=2.21.0->tensorboard<2.11,>=2.10->tensorflow) (3.4)\n",
      "Requirement already satisfied: urllib3<1.27,>=1.21.1 in c:\\users\\meghna\\anaconda3\\lib\\site-packages (from requests<3,>=2.21.0->tensorboard<2.11,>=2.10->tensorflow) (1.26.13)\n",
      "Requirement already satisfied: charset-normalizer<3,>=2 in c:\\users\\meghna\\anaconda3\\lib\\site-packages (from requests<3,>=2.21.0->tensorboard<2.11,>=2.10->tensorflow) (2.0.4)\n",
      "Requirement already satisfied: zipp>=0.5 in c:\\users\\meghna\\anaconda3\\lib\\site-packages (from importlib-metadata>=4.4->markdown>=2.6.8->tensorboard<2.11,>=2.10->tensorflow) (3.11.0)\n",
      "Requirement already satisfied: pyasn1<0.5.0,>=0.4.6 in c:\\users\\meghna\\anaconda3\\lib\\site-packages (from pyasn1-modules>=0.2.1->google-auth<3,>=1.6.3->tensorboard<2.11,>=2.10->tensorflow) (0.4.8)\n",
      "Requirement already satisfied: oauthlib>=3.0.0 in c:\\users\\meghna\\anaconda3\\lib\\site-packages (from requests-oauthlib>=0.7.0->google-auth-oauthlib<0.5,>=0.4.1->tensorboard<2.11,>=2.10->tensorflow) (3.2.2)\n"
     ]
    },
    {
     "name": "stderr",
     "output_type": "stream",
     "text": [
      "WARNING: Ignoring invalid distribution -illow (c:\\users\\meghna\\anaconda3\\lib\\site-packages)\n",
      "WARNING: Ignoring invalid distribution -illow (c:\\users\\meghna\\anaconda3\\lib\\site-packages)\n",
      "WARNING: Ignoring invalid distribution -illow (c:\\users\\meghna\\anaconda3\\lib\\site-packages)\n",
      "WARNING: Ignoring invalid distribution -illow (c:\\users\\meghna\\anaconda3\\lib\\site-packages)\n",
      "WARNING: Ignoring invalid distribution -illow (c:\\users\\meghna\\anaconda3\\lib\\site-packages)\n",
      "WARNING: Ignoring invalid distribution -illow (c:\\users\\meghna\\anaconda3\\lib\\site-packages)\n"
     ]
    }
   ],
   "source": [
    "#Importing necessary libraries\n",
    "\n",
    "import pandas as pd\n",
    "import numpy as np\n",
    "import nltk\n",
    "import re\n",
    "\n",
    "from nltk.tokenize import word_tokenize\n",
    "\n",
    "from nltk.corpus import stopwords\n",
    "from nltk.corpus import wordnet\n",
    "from nltk.stem.wordnet import WordNetLemmatizer\n",
    "from nltk import pos_tag\n",
    "%pip install emoji\n",
    "%pip install tensorflow\n",
    "\n",
    "import emoji\n",
    "lemmatizer = WordNetLemmatizer()\n",
    "\n",
    "#Pre-processing functions\n",
    "\n",
    "def remove_emoji(string):\n",
    "    return emoji.replace_emoji(string, '')\n",
    "\n",
    "def remove_punctuation(string):\n",
    "    clean = re.sub(r'[^\\w\\s]', '', string)\n",
    "    return clean\n",
    "\n",
    "def stop_word_list():\n",
    "    #nltk.download('stopwords')\n",
    "    #Getting stopwords\n",
    "    sw = stopwords.words('english')\n",
    "\n",
    "    #Removing the important stopwords from the corpus\n",
    "    sw.remove('not')\n",
    "    sw.remove(\"didn't\")\n",
    "    sw.remove(\"don't\")\n",
    "    sw.remove(\"wasn't\")\n",
    "\n",
    "    return sw\n",
    "\n",
    "def pos_tagger(nltk_tag):\n",
    "    if nltk_tag.startswith('J'):\n",
    "        return wordnet.ADJ\n",
    "    elif nltk_tag.startswith('V'):\n",
    "        return wordnet.VERB\n",
    "    elif nltk_tag.startswith('N'):\n",
    "        return wordnet.NOUN\n",
    "    elif nltk_tag.startswith('R'):\n",
    "        return wordnet.ADV\n",
    "    else:         \n",
    "        return None\n",
    "    \n",
    "\n",
    "def lemmatize(text):\n",
    "    lemmatized_sentence = []\n",
    "    for word, tag in text:\n",
    "        if tag is None:\n",
    "            lemmatized_sentence.append(word)\n",
    "        else:       \n",
    "            lemmatized_sentence.append(lemmatizer.lemmatize(word, tag))\n",
    "    lemmatized_sentence = \" \".join(lemmatized_sentence)\n",
    "    return lemmatized_sentence\n",
    "\n",
    "#Reading CSV\n",
    "df = pd.read_csv(r'Labelled_Dataset.csv')\n",
    "\n",
    "df.columns = ['LABEL','COMMENTS']\n",
    "\n",
    "#Removing unnecessary spaces from the labels\n",
    "labels = df['LABEL'].tolist()\n",
    "labels = [label.strip() for label in labels]\n",
    "df['LABEL'] = labels"
   ]
  },
  {
   "cell_type": "markdown",
   "id": "8f0cbce2",
   "metadata": {
    "id": "8f0cbce2"
   },
   "source": [
    "**SPLITTING DATA**"
   ]
  },
  {
   "cell_type": "markdown",
   "id": "7d7f28bb",
   "metadata": {
    "id": "7d7f28bb"
   },
   "source": [
    "The next cell has a function of splitting the data into train and test set. The size of training set is 80% of the total dataset whereas the rest of the 20% of the whole dataset makes up the test set. The random state parameter is used and set to a constant integer, in this case 42, to make the splitting of data deterministic and reproducible."
   ]
  },
  {
   "cell_type": "code",
   "execution_count": 2,
   "id": "b3eb601a",
   "metadata": {
    "id": "b3eb601a"
   },
   "outputs": [],
   "source": [
    "# Function for splitting of data \n",
    "\n",
    "def Split_data(x,y):\n",
    "    \n",
    "    #Importing the necessary library\n",
    "    from sklearn.model_selection import train_test_split\n",
    "    \n",
    "    df_train,df_test,y_train,y_test=train_test_split(x,y,test_size=0.2,random_state=42)\n",
    "    return(df_train,df_test,y_train,y_test)"
   ]
  },
  {
   "cell_type": "markdown",
   "id": "bc887a7d",
   "metadata": {
    "id": "bc887a7d"
   },
   "source": [
    "**MODEL**"
   ]
  },
  {
   "cell_type": "markdown",
   "id": "4817fe2b",
   "metadata": {
    "id": "4817fe2b"
   },
   "source": [
    "The Neural Network used consists of a input layer, one hidden layer and a output layer. Input and hidden layer both have 120 units. The activation function used in input and hidden layer is ReLu and Softmax activation function is used in the output layer. 40-60 epochs were yielding similar results and as we increased the epochs beyond 60 the test accuracy was decreasing because of overfitting.\n",
    "Seeding was used to make the model reproducible as without seeding the model was getting trained differently with each run. The count vectorizer was used as the tf-idf vectorizer was yielding less accuracy. The reason for count vectorizer doing better in our case is data length is short and with less unique words."
   ]
  },
  {
   "cell_type": "code",
   "execution_count": 3,
   "id": "cfb7669a",
   "metadata": {
    "id": "cfb7669a"
   },
   "outputs": [],
   "source": [
    "#Function for creating a model\n",
    "\n",
    "def Neural_Network_Model(df_train,df_test,y_train,y_test,x,y):\n",
    "    \n",
    "    #Importing necessary libraries\n",
    "    \n",
    "    import tensorflow as tf\n",
    "    from sklearn.feature_extraction.text import CountVectorizer\n",
    "    from sklearn.preprocessing import LabelEncoder\n",
    "    from keras.models import Sequential\n",
    "    from keras.layers import Dense\n",
    "    from numpy.random import seed\n",
    "    import random as rn\n",
    "    import os\n",
    "    \n",
    "    #Seeding\n",
    "    os.environ['PYTHONHASHSEED'] = '0'\n",
    "    np.random.seed(37)\n",
    "    rn.seed(1254)\n",
    "    tf.random.set_seed(89)\n",
    "\n",
    "    vectorizer = CountVectorizer()\n",
    "\n",
    "    vectorizer.fit(x)\n",
    "    df_train = vectorizer.transform(df_train)\n",
    "    df_test = vectorizer.transform(df_test)\n",
    "\n",
    "    le = LabelEncoder()\n",
    "    le.fit(y)\n",
    "    y_train = le.transform(y_train)\n",
    "    y_test = le.transform(y_test)\n",
    "\n",
    "    model = Sequential()\n",
    "    \n",
    "    #Input layer\n",
    "    \n",
    "    model.add(Dense(units=120, activation='relu', input_dim=len(vectorizer.get_feature_names())))\n",
    "    \n",
    "    #Hidden layer\n",
    "    \n",
    "    model.add(Dense(units=120, activation='relu', input_dim=120))\n",
    "    \n",
    "    #Output layer\n",
    "    \n",
    "    model.add(Dense(units=3, activation='softmax'))\n",
    "    \n",
    "    model.compile(loss='sparse_categorical_crossentropy', optimizer='adam', metrics=['accuracy'])\n",
    "    \n",
    "    #Training the model\n",
    "    history = model.fit(df_train, y_train, \n",
    "              epochs=40, verbose=0)\n",
    "    scores = model.evaluate(df_test, y_test, verbose=1)\n",
    "    print(\"Accuracy:\", scores[1])\n",
    "    Create_Confusion_Matrix(model, df_test, y_test)"
   ]
  },
  {
   "cell_type": "markdown",
   "id": "85e7f828",
   "metadata": {
    "id": "85e7f828"
   },
   "source": [
    "**CONFUSION MATRIX**"
   ]
  },
  {
   "cell_type": "markdown",
   "id": "6dbf7616",
   "metadata": {
    "id": "6dbf7616"
   },
   "source": [
    "The following function will create the confusion matrix and will also give precision, recall and f1 score."
   ]
  },
  {
   "cell_type": "code",
   "execution_count": 4,
   "id": "e5ac9060",
   "metadata": {
    "id": "e5ac9060"
   },
   "outputs": [],
   "source": [
    "#Confusion Matrix\n",
    "\n",
    "def Create_Confusion_Matrix(model, df_test, y_test):\n",
    "    \n",
    "    #Importing necessary libraries\n",
    "    \n",
    "    from sklearn import metrics\n",
    "    from sklearn.metrics import confusion_matrix\n",
    "    import seaborn as sns\n",
    "    import matplotlib.pyplot as plt\n",
    "    from sklearn.metrics import accuracy_score\n",
    "    from sklearn.metrics import precision_score\n",
    "    from sklearn.metrics import recall_score\n",
    "    from sklearn.metrics import f1_score\n",
    "    \n",
    "    #Getting predicted classes and actual classes\n",
    "    \n",
    "    predicted_classes = model.predict(df_test)\n",
    "    classes_x=np.argmax(predicted_classes,axis=1)\n",
    "    y_true = y_test\n",
    "\n",
    "    #Printing the precision,recall and F1 metrics \n",
    "    \n",
    "    print(metrics.classification_report(y_true, classes_x, digits=3))\n",
    "    \n",
    "    #Constructing the confusion matrix\n",
    "    \n",
    "    labels = ['Negative', 'Neutral', 'Positive']\n",
    "    cm = confusion_matrix(y_true, classes_x)\n",
    "    plt.figure(figsize = (5, 5))\n",
    "    ax= plt.subplot()\n",
    "    sns.heatmap(cm, annot=True, fmt='g', ax=ax);\n",
    "    ax.xaxis.set_ticklabels(labels);\n",
    "    ax.yaxis.set_ticklabels(labels);\n",
    "    ax.set_xlabel('Predicted labels');\n",
    "    ax.set_ylabel('True labels'); \n",
    "    ax.set_title('Confusion Matrix'); \n",
    "    print(cm)"
   ]
  },
  {
   "cell_type": "markdown",
   "id": "73f8c3ee",
   "metadata": {
    "id": "73f8c3ee"
   },
   "source": [
    "**FIRST CASE: EMOJI REMOVAL**"
   ]
  },
  {
   "cell_type": "markdown",
   "id": "d3461ae0",
   "metadata": {
    "id": "d3461ae0"
   },
   "source": [
    "In this case, we just removed the emojis from the comment, split the processed dataset and trained the neural network. After training the model with emojiless data the test accuracy came out to be around 83.33%. "
   ]
  },
  {
   "cell_type": "code",
   "execution_count": 5,
   "id": "9e630b75",
   "metadata": {
    "id": "9e630b75"
   },
   "outputs": [],
   "source": [
    "#Removing emoji\n",
    "\n",
    "for items in range(0,df.shape[0]):\n",
    "    df.at[items, 'CLEAN COMMENTS']= remove_emoji(df.at[items, 'COMMENTS'])"
   ]
  },
  {
   "cell_type": "code",
   "execution_count": 6,
   "id": "9f77dd7b",
   "metadata": {
    "colab": {
     "base_uri": "https://localhost:8080/",
     "height": 717
    },
    "id": "9f77dd7b",
    "outputId": "cf69c7c8-f236-4132-a089-908e79a57a79"
   },
   "outputs": [
    {
     "name": "stderr",
     "output_type": "stream",
     "text": [
      "C:\\Users\\Meghna\\anaconda3\\lib\\site-packages\\sklearn\\utils\\deprecation.py:87: FutureWarning: Function get_feature_names is deprecated; get_feature_names is deprecated in 1.0 and will be removed in 1.2. Please use get_feature_names_out instead.\n",
      "  warnings.warn(msg, category=FutureWarning)\n",
      "C:\\Users\\Meghna\\anaconda3\\lib\\site-packages\\tensorflow\\python\\framework\\indexed_slices.py:444: UserWarning: Converting sparse IndexedSlices(IndexedSlices(indices=Tensor(\"gradient_tape/sequential/dense/embedding_lookup_sparse/Reshape_1:0\", shape=(None,), dtype=int32), values=Tensor(\"gradient_tape/sequential/dense/embedding_lookup_sparse/Reshape:0\", shape=(None, 120), dtype=float32), dense_shape=Tensor(\"gradient_tape/sequential/dense/embedding_lookup_sparse/Cast:0\", shape=(2,), dtype=int32))) to a dense Tensor of unknown shape. This may consume a large amount of memory.\n",
      "  warnings.warn(\n"
     ]
    },
    {
     "name": "stdout",
     "output_type": "stream",
     "text": [
      "8/8 [==============================] - 0s 3ms/step - loss: 0.9648 - accuracy: 0.8333\n",
      "Accuracy: 0.8333333134651184\n",
      "8/8 [==============================] - 0s 3ms/step\n",
      "              precision    recall  f1-score   support\n",
      "\n",
      "           0      0.907     0.875     0.891       112\n",
      "           1      0.583     0.618     0.600        34\n",
      "           2      0.844     0.862     0.853        94\n",
      "\n",
      "    accuracy                          0.833       240\n",
      "   macro avg      0.778     0.785     0.781       240\n",
      "weighted avg      0.837     0.833     0.835       240\n",
      "\n",
      "[[98  7  7]\n",
      " [ 5 21  8]\n",
      " [ 5  8 81]]\n"
     ]
    },
    {
     "data": {
      "image/png": "[encoded data removed]",
      "text/plain": [
       "<Figure size 500x500 with 2 Axes>"
      ]
     },
     "metadata": {},
     "output_type": "display_data"
    }
   ],
   "source": [
    "df_train,df_test,y_train,y_test = Split_data(df['CLEAN COMMENTS'],df['LABEL'])\n",
    "Neural_Network_Model(df_train,df_test,y_train,y_test,x=df['CLEAN COMMENTS'],y=df['LABEL'])"
   ]
  },
  {
   "cell_type": "markdown",
   "id": "7047a3ba",
   "metadata": {
    "id": "7047a3ba"
   },
   "source": [
    "**SECOND CASE: EMOJI REMOVAL WITH LEMMATISATION** "
   ]
  },
  {
   "cell_type": "markdown",
   "id": "5eb87152",
   "metadata": {
    "id": "5eb87152"
   },
   "source": [
    "In this case, we just removed the emojis from the comment and applied lemmatisation, split the processed dataset and trained the neural network. After training the model with emojiless lemmatised data the test accuracy came out to be around 83.74%, which was similar to the accuracy achieved without lemmatisation."
   ]
  },
  {
   "cell_type": "code",
   "execution_count": 7,
   "id": "d4e80c71",
   "metadata": {
    "colab": {
     "base_uri": "https://localhost:8080/"
    },
    "id": "d4e80c71",
    "outputId": "bd6c6b55-d26f-46d0-95e6-5c99f0dd45de"
   },
   "outputs": [
    {
     "name": "stderr",
     "output_type": "stream",
     "text": [
      "[nltk_data] Downloading package punkt to\n",
      "[nltk_data]     C:\\Users\\Meghna\\AppData\\Roaming\\nltk_data...\n",
      "[nltk_data]   Unzipping tokenizers\\punkt.zip.\n",
      "[nltk_data] Downloading package averaged_perceptron_tagger to\n",
      "[nltk_data]     C:\\Users\\Meghna\\AppData\\Roaming\\nltk_data...\n",
      "[nltk_data]   Package averaged_perceptron_tagger is already up-to-\n",
      "[nltk_data]       date!\n",
      "[nltk_data] Downloading package wordnet to\n",
      "[nltk_data]     C:\\Users\\Meghna\\AppData\\Roaming\\nltk_data...\n",
      "[nltk_data]   Package wordnet is already up-to-date!\n",
      "[nltk_data] Downloading package omw-1.4 to\n",
      "[nltk_data]     C:\\Users\\Meghna\\AppData\\Roaming\\nltk_data...\n",
      "[nltk_data]   Package omw-1.4 is already up-to-date!\n"
     ]
    }
   ],
   "source": [
    "nltk.download('punkt')\n",
    "nltk.download('averaged_perceptron_tagger')\n",
    "nltk.download('wordnet')\n",
    "\n",
    "#Creating Tokens\n",
    "df['TOKEN'] = df['CLEAN COMMENTS'].apply(word_tokenize)\n",
    "\n",
    "#PoS Tagging\n",
    "nltk.download('omw-1.4')\n",
    "\n",
    "df['POS TAGGING'] = df['TOKEN'].apply(nltk.pos_tag)\n",
    "for items in range(0,df.shape[0]):\n",
    "    df.at[items, 'POS TAGGING'] = list(map(lambda x: (x[0], pos_tagger(x[1])),df.at[items, 'POS TAGGING']))\n",
    "    \n",
    "#Lemmatization\n",
    "for items in range(0,df.shape[0]):\n",
    "    df.at[items,'LEMM'] = lemmatize(df.at[items,'POS TAGGING'])\n"
   ]
  },
  {
   "cell_type": "code",
   "execution_count": 8,
   "id": "1e7689a7",
   "metadata": {
    "colab": {
     "base_uri": "https://localhost:8080/",
     "height": 717
    },
    "id": "1e7689a7",
    "outputId": "25b07254-a7c4-4178-b3d3-eb9739ef0d03"
   },
   "outputs": [
    {
     "name": "stderr",
     "output_type": "stream",
     "text": [
      "C:\\Users\\Meghna\\anaconda3\\lib\\site-packages\\sklearn\\utils\\deprecation.py:87: FutureWarning: Function get_feature_names is deprecated; get_feature_names is deprecated in 1.0 and will be removed in 1.2. Please use get_feature_names_out instead.\n",
      "  warnings.warn(msg, category=FutureWarning)\n",
      "C:\\Users\\Meghna\\anaconda3\\lib\\site-packages\\tensorflow\\python\\framework\\indexed_slices.py:444: UserWarning: Converting sparse IndexedSlices(IndexedSlices(indices=Tensor(\"gradient_tape/sequential_1/dense_3/embedding_lookup_sparse/Reshape_1:0\", shape=(None,), dtype=int32), values=Tensor(\"gradient_tape/sequential_1/dense_3/embedding_lookup_sparse/Reshape:0\", shape=(None, 120), dtype=float32), dense_shape=Tensor(\"gradient_tape/sequential_1/dense_3/embedding_lookup_sparse/Cast:0\", shape=(2,), dtype=int32))) to a dense Tensor of unknown shape. This may consume a large amount of memory.\n",
      "  warnings.warn(\n"
     ]
    },
    {
     "name": "stdout",
     "output_type": "stream",
     "text": [
      "8/8 [==============================] - 0s 3ms/step - loss: 0.9574 - accuracy: 0.8375\n",
      "Accuracy: 0.8374999761581421\n",
      "8/8 [==============================] - 0s 4ms/step\n",
      "              precision    recall  f1-score   support\n",
      "\n",
      "           0      0.893     0.893     0.893       112\n",
      "           1      0.633     0.559     0.594        34\n",
      "           2      0.837     0.872     0.854        94\n",
      "\n",
      "    accuracy                          0.838       240\n",
      "   macro avg      0.788     0.775     0.780       240\n",
      "weighted avg      0.834     0.838     0.835       240\n",
      "\n",
      "[[100   5   7]\n",
      " [  6  19   9]\n",
      " [  6   6  82]]\n"
     ]
    },
    {
     "data": {
      "image/png": "[encoded data removed]",
      "text/plain": [
       "<Figure size 500x500 with 2 Axes>"
      ]
     },
     "metadata": {},
     "output_type": "display_data"
    }
   ],
   "source": [
    "df_train,df_test,y_train,y_test = Split_data(df['LEMM'],df['LABEL'])\n",
    "Neural_Network_Model(df_train,df_test,y_train,y_test,x=df['LEMM'],y=df['LABEL'])"
   ]
  },
  {
   "cell_type": "markdown",
   "id": "80819117",
   "metadata": {
    "id": "80819117"
   },
   "source": [
    "**THIRD CASE: PUNCTUATIONS REMOVAL**"
   ]
  },
  {
   "cell_type": "markdown",
   "id": "f570b5d8",
   "metadata": {
    "id": "f570b5d8"
   },
   "source": [
    "In this case, we just removed the emojis as well as the punctuation from the comment, split the processed dataset and trained the neural network. After training the model with this processed data the test accuracy came out to be around 84.16%."
   ]
  },
  {
   "cell_type": "code",
   "execution_count": 9,
   "id": "a1934208",
   "metadata": {
    "id": "a1934208"
   },
   "outputs": [],
   "source": [
    "#Punctuation Removal \n",
    "for items in range(0,df.shape[0]):\n",
    "    df.at[items, 'PUNC CLEAN COMMENTS']= remove_punctuation(df.at[items, 'CLEAN COMMENTS'])"
   ]
  },
  {
   "cell_type": "code",
   "execution_count": 10,
   "id": "bc0f211c",
   "metadata": {
    "colab": {
     "base_uri": "https://localhost:8080/",
     "height": 717
    },
    "id": "bc0f211c",
    "outputId": "f63c2908-a5b2-460d-fdad-f38146f4d529"
   },
   "outputs": [
    {
     "name": "stderr",
     "output_type": "stream",
     "text": [
      "C:\\Users\\Meghna\\anaconda3\\lib\\site-packages\\sklearn\\utils\\deprecation.py:87: FutureWarning: Function get_feature_names is deprecated; get_feature_names is deprecated in 1.0 and will be removed in 1.2. Please use get_feature_names_out instead.\n",
      "  warnings.warn(msg, category=FutureWarning)\n",
      "C:\\Users\\Meghna\\anaconda3\\lib\\site-packages\\tensorflow\\python\\framework\\indexed_slices.py:444: UserWarning: Converting sparse IndexedSlices(IndexedSlices(indices=Tensor(\"gradient_tape/sequential_2/dense_6/embedding_lookup_sparse/Reshape_1:0\", shape=(None,), dtype=int32), values=Tensor(\"gradient_tape/sequential_2/dense_6/embedding_lookup_sparse/Reshape:0\", shape=(None, 120), dtype=float32), dense_shape=Tensor(\"gradient_tape/sequential_2/dense_6/embedding_lookup_sparse/Cast:0\", shape=(2,), dtype=int32))) to a dense Tensor of unknown shape. This may consume a large amount of memory.\n",
      "  warnings.warn(\n"
     ]
    },
    {
     "name": "stdout",
     "output_type": "stream",
     "text": [
      "8/8 [==============================] - 0s 4ms/step - loss: 0.9191 - accuracy: 0.8417\n",
      "Accuracy: 0.8416666388511658\n",
      "8/8 [==============================] - 0s 3ms/step\n",
      "              precision    recall  f1-score   support\n",
      "\n",
      "           0      0.923     0.857     0.889       112\n",
      "           1      0.641     0.735     0.685        34\n",
      "           2      0.835     0.862     0.848        94\n",
      "\n",
      "    accuracy                          0.842       240\n",
      "   macro avg      0.800     0.818     0.807       240\n",
      "weighted avg      0.849     0.842     0.844       240\n",
      "\n",
      "[[96  6 10]\n",
      " [ 3 25  6]\n",
      " [ 5  8 81]]\n"
     ]
    },
    {
     "data": {
      "image/png": "[encoded data removed]",
      "text/plain": [
       "<Figure size 500x500 with 2 Axes>"
      ]
     },
     "metadata": {},
     "output_type": "display_data"
    }
   ],
   "source": [
    "df_train,df_test,y_train,y_test = Split_data(df['PUNC CLEAN COMMENTS'],df['LABEL'])\n",
    "Neural_Network_Model(df_train,df_test,y_train,y_test,x=df['PUNC CLEAN COMMENTS'],y=df['LABEL'])"
   ]
  },
  {
   "cell_type": "markdown",
   "id": "0d127338",
   "metadata": {
    "id": "0d127338"
   },
   "source": [
    "**FOURTH CASE: PUNCTUATION REMOVAL WITH LEMMATISATION**"
   ]
  },
  {
   "cell_type": "markdown",
   "id": "153bef8c",
   "metadata": {
    "id": "153bef8c"
   },
   "source": [
    "In this case, we just removed the emojis from the comment, split the processed dataset and trained the neural network. After training the model with emojiless data the test accuracy came out to be around 83.74%. "
   ]
  },
  {
   "cell_type": "code",
   "execution_count": 11,
   "id": "f0fe3816",
   "metadata": {
    "colab": {
     "base_uri": "https://localhost:8080/"
    },
    "id": "f0fe3816",
    "outputId": "40c604e9-d864-4942-e44b-e0a3a686d14d"
   },
   "outputs": [
    {
     "name": "stderr",
     "output_type": "stream",
     "text": [
      "[nltk_data] Downloading package omw-1.4 to\n",
      "[nltk_data]     C:\\Users\\Meghna\\AppData\\Roaming\\nltk_data...\n",
      "[nltk_data]   Package omw-1.4 is already up-to-date!\n"
     ]
    }
   ],
   "source": [
    "#Creating Tokens\n",
    "df['TOKEN'] = df['PUNC CLEAN COMMENTS'].apply(word_tokenize)\n",
    "\n",
    "#PoS Tagging\n",
    "nltk.download('omw-1.4')\n",
    "df['POS TAGGING'] = df['TOKEN'].apply(nltk.pos_tag)\n",
    "for items in range(0,df.shape[0]):\n",
    "    df.at[items, 'POS TAGGING'] = list(map(lambda x: (x[0], pos_tagger(x[1])),df.at[items, 'POS TAGGING']))\n",
    "\n",
    "#Lemmatization\n",
    "for items in range(0,df.shape[0]):\n",
    "    df.at[items,'LEMM'] = lemmatize(df.at[items,'POS TAGGING'])"
   ]
  },
  {
   "cell_type": "code",
   "execution_count": 12,
   "id": "62644d98",
   "metadata": {
    "colab": {
     "base_uri": "https://localhost:8080/",
     "height": 717
    },
    "id": "62644d98",
    "outputId": "842b9451-fb9e-409a-fce0-e283bf1b6967"
   },
   "outputs": [
    {
     "name": "stderr",
     "output_type": "stream",
     "text": [
      "C:\\Users\\Meghna\\anaconda3\\lib\\site-packages\\sklearn\\utils\\deprecation.py:87: FutureWarning: Function get_feature_names is deprecated; get_feature_names is deprecated in 1.0 and will be removed in 1.2. Please use get_feature_names_out instead.\n",
      "  warnings.warn(msg, category=FutureWarning)\n",
      "C:\\Users\\Meghna\\anaconda3\\lib\\site-packages\\tensorflow\\python\\framework\\indexed_slices.py:444: UserWarning: Converting sparse IndexedSlices(IndexedSlices(indices=Tensor(\"gradient_tape/sequential_3/dense_9/embedding_lookup_sparse/Reshape_1:0\", shape=(None,), dtype=int32), values=Tensor(\"gradient_tape/sequential_3/dense_9/embedding_lookup_sparse/Reshape:0\", shape=(None, 120), dtype=float32), dense_shape=Tensor(\"gradient_tape/sequential_3/dense_9/embedding_lookup_sparse/Cast:0\", shape=(2,), dtype=int32))) to a dense Tensor of unknown shape. This may consume a large amount of memory.\n",
      "  warnings.warn(\n"
     ]
    },
    {
     "name": "stdout",
     "output_type": "stream",
     "text": [
      "8/8 [==============================] - 0s 2ms/step - loss: 0.8998 - accuracy: 0.8375\n",
      "Accuracy: 0.8374999761581421\n",
      "8/8 [==============================] - 0s 2ms/step\n",
      "              precision    recall  f1-score   support\n",
      "\n",
      "           0      0.889     0.857     0.873       112\n",
      "           1      0.636     0.618     0.627        34\n",
      "           2      0.848     0.894     0.870        94\n",
      "\n",
      "    accuracy                          0.838       240\n",
      "   macro avg      0.791     0.789     0.790       240\n",
      "weighted avg      0.837     0.838     0.837       240\n",
      "\n",
      "[[96  7  9]\n",
      " [ 7 21  6]\n",
      " [ 5  5 84]]\n"
     ]
    },
    {
     "data": {
      "image/png": "[encoded data removed]",
      "text/plain": [
       "<Figure size 500x500 with 2 Axes>"
      ]
     },
     "metadata": {},
     "output_type": "display_data"
    }
   ],
   "source": [
    "df_train,df_test,y_train,y_test = Split_data(df['LEMM'],df['LABEL'])\n",
    "Neural_Network_Model(df_train,df_test,y_train,y_test,x=df['LEMM'],y=df['LABEL'])"
   ]
  },
  {
   "cell_type": "markdown",
   "id": "d65e4e10",
   "metadata": {
    "id": "d65e4e10"
   },
   "source": [
    "**FIFTH CASE: STOP WORD REMOVAL**"
   ]
  },
  {
   "cell_type": "markdown",
   "id": "79bd3110",
   "metadata": {
    "id": "79bd3110"
   },
   "source": [
    "In this case, we just removed the stopwords and punctuation from the emojiless comments, split the processed dataset and trained the neural network. After training the model with this data the test accuracy came out to be around 81.25%. "
   ]
  },
  {
   "cell_type": "code",
   "execution_count": 13,
   "id": "3d9f603a",
   "metadata": {
    "id": "3d9f603a"
   },
   "outputs": [],
   "source": [
    "for items in range(0,df.shape[0]):\n",
    "    sw_list = stop_word_list()\n",
    "    text = df.at[items, 'CLEAN COMMENTS']\n",
    "    words = [word for word in nltk.word_tokenize(text) if not word in sw_list]\n",
    "    df.at[items, 'CLEAN COMMENTS'] = \" \".join(words)\n",
    "    df.at[items, 'CLEAN COMMENTS']= remove_punctuation(df.at[items, 'CLEAN COMMENTS'])"
   ]
  },
  {
   "cell_type": "code",
   "execution_count": 14,
   "id": "a892523c",
   "metadata": {
    "colab": {
     "base_uri": "https://localhost:8080/",
     "height": 717
    },
    "id": "a892523c",
    "outputId": "166b8335-f858-4401-810d-86a560a687b1"
   },
   "outputs": [
    {
     "name": "stderr",
     "output_type": "stream",
     "text": [
      "C:\\Users\\Meghna\\anaconda3\\lib\\site-packages\\sklearn\\utils\\deprecation.py:87: FutureWarning: Function get_feature_names is deprecated; get_feature_names is deprecated in 1.0 and will be removed in 1.2. Please use get_feature_names_out instead.\n",
      "  warnings.warn(msg, category=FutureWarning)\n",
      "C:\\Users\\Meghna\\anaconda3\\lib\\site-packages\\tensorflow\\python\\framework\\indexed_slices.py:444: UserWarning: Converting sparse IndexedSlices(IndexedSlices(indices=Tensor(\"gradient_tape/sequential_4/dense_12/embedding_lookup_sparse/Reshape_1:0\", shape=(None,), dtype=int32), values=Tensor(\"gradient_tape/sequential_4/dense_12/embedding_lookup_sparse/Reshape:0\", shape=(None, 120), dtype=float32), dense_shape=Tensor(\"gradient_tape/sequential_4/dense_12/embedding_lookup_sparse/Cast:0\", shape=(2,), dtype=int32))) to a dense Tensor of unknown shape. This may consume a large amount of memory.\n",
      "  warnings.warn(\n"
     ]
    },
    {
     "name": "stdout",
     "output_type": "stream",
     "text": [
      "8/8 [==============================] - 0s 8ms/step - loss: 0.8957 - accuracy: 0.8125\n",
      "Accuracy: 0.8125\n",
      "8/8 [==============================] - 0s 4ms/step\n",
      "              precision    recall  f1-score   support\n",
      "\n",
      "           0      0.902     0.821     0.860       112\n",
      "           1      0.520     0.765     0.619        34\n",
      "           2      0.875     0.819     0.846        94\n",
      "\n",
      "    accuracy                          0.812       240\n",
      "   macro avg      0.766     0.802     0.775       240\n",
      "weighted avg      0.837     0.812     0.820       240\n",
      "\n",
      "[[92 12  8]\n",
      " [ 5 26  3]\n",
      " [ 5 12 77]]\n"
     ]
    },
    {
     "data": {
      "image/png": "[encoded data removed]",
      "text/plain": [
       "<Figure size 500x500 with 2 Axes>"
      ]
     },
     "metadata": {},
     "output_type": "display_data"
    }
   ],
   "source": [
    "df_train,df_test,y_train,y_test = Split_data(df['CLEAN COMMENTS'],df['LABEL'])\n",
    "Neural_Network_Model(df_train,df_test,y_train,y_test,x=df['CLEAN COMMENTS'],y=df['LABEL'])"
   ]
  },
  {
   "cell_type": "markdown",
   "id": "7e829bf6",
   "metadata": {
    "id": "7e829bf6"
   },
   "source": [
    "**SIXTH CASE: STOP WORD REMOVAL WITH LEMMATISATION**"
   ]
  },
  {
   "cell_type": "markdown",
   "id": "8a2a6bfb",
   "metadata": {
    "id": "8a2a6bfb"
   },
   "source": [
    "In this case, we applied lemmatisation on the data used for the above(fifth) case, split the processed dataset and trained the neural network. After training the model with this data the test accuracy came out to be around 84.58%.  "
   ]
  },
  {
   "cell_type": "code",
   "execution_count": 15,
   "id": "dace2dcf",
   "metadata": {
    "colab": {
     "base_uri": "https://localhost:8080/"
    },
    "id": "dace2dcf",
    "outputId": "5a78bcc9-faed-42c3-9e37-763eaaee9f57"
   },
   "outputs": [
    {
     "name": "stderr",
     "output_type": "stream",
     "text": [
      "[nltk_data] Downloading package omw-1.4 to\n",
      "[nltk_data]     C:\\Users\\Meghna\\AppData\\Roaming\\nltk_data...\n",
      "[nltk_data]   Package omw-1.4 is already up-to-date!\n"
     ]
    }
   ],
   "source": [
    "#Creating Tokens\n",
    "df['TOKEN'] = df['CLEAN COMMENTS'].apply(word_tokenize)\n",
    "\n",
    "#PoS Tagging\n",
    "nltk.download('omw-1.4')\n",
    "df['POS TAGGING'] = df['TOKEN'].apply(nltk.pos_tag)\n",
    "for items in range(0,df.shape[0]):\n",
    "    df.at[items, 'POS TAGGING'] = list(map(lambda x: (x[0], pos_tagger(x[1])),df.at[items, 'POS TAGGING']))\n",
    "\n",
    "#Lemmatization\n",
    "for items in range(0,df.shape[0]):\n",
    "    df.at[items,'LEMM'] = lemmatize(df.at[items,'POS TAGGING'])"
   ]
  },
  {
   "cell_type": "code",
   "execution_count": 16,
   "id": "977d769d",
   "metadata": {
    "colab": {
     "base_uri": "https://localhost:8080/",
     "height": 717
    },
    "id": "977d769d",
    "outputId": "37c10891-0f76-4575-a934-7ead44aae4df"
   },
   "outputs": [
    {
     "name": "stderr",
     "output_type": "stream",
     "text": [
      "C:\\Users\\Meghna\\anaconda3\\lib\\site-packages\\sklearn\\utils\\deprecation.py:87: FutureWarning: Function get_feature_names is deprecated; get_feature_names is deprecated in 1.0 and will be removed in 1.2. Please use get_feature_names_out instead.\n",
      "  warnings.warn(msg, category=FutureWarning)\n",
      "C:\\Users\\Meghna\\anaconda3\\lib\\site-packages\\tensorflow\\python\\framework\\indexed_slices.py:444: UserWarning: Converting sparse IndexedSlices(IndexedSlices(indices=Tensor(\"gradient_tape/sequential_5/dense_15/embedding_lookup_sparse/Reshape_1:0\", shape=(None,), dtype=int32), values=Tensor(\"gradient_tape/sequential_5/dense_15/embedding_lookup_sparse/Reshape:0\", shape=(None, 120), dtype=float32), dense_shape=Tensor(\"gradient_tape/sequential_5/dense_15/embedding_lookup_sparse/Cast:0\", shape=(2,), dtype=int32))) to a dense Tensor of unknown shape. This may consume a large amount of memory.\n",
      "  warnings.warn(\n"
     ]
    },
    {
     "name": "stdout",
     "output_type": "stream",
     "text": [
      "8/8 [==============================] - 0s 4ms/step - loss: 0.9296 - accuracy: 0.8458\n",
      "Accuracy: 0.8458333611488342\n",
      "8/8 [==============================] - 0s 4ms/step\n",
      "              precision    recall  f1-score   support\n",
      "\n",
      "           0      0.900     0.884     0.892       112\n",
      "           1      0.575     0.676     0.622        34\n",
      "           2      0.900     0.862     0.880        94\n",
      "\n",
      "    accuracy                          0.846       240\n",
      "   macro avg      0.792     0.807     0.798       240\n",
      "weighted avg      0.854     0.846     0.849       240\n",
      "\n",
      "[[99  9  4]\n",
      " [ 6 23  5]\n",
      " [ 5  8 81]]\n"
     ]
    },
    {
     "data": {
      "image/png": "[encoded data removed]",
      "text/plain": [
       "<Figure size 500x500 with 2 Axes>"
      ]
     },
     "metadata": {},
     "output_type": "display_data"
    }
   ],
   "source": [
    "df_train,df_test,y_train,y_test = Split_data(df['LEMM'],df['LABEL'])\n",
    "Neural_Network_Model(df_train,df_test,y_train,y_test,x=df['LEMM'],y=df['LABEL'])"
   ]
  },
  {
   "cell_type": "markdown",
   "id": "15aa35a7",
   "metadata": {
    "id": "15aa35a7"
   },
   "source": [
    "EVALUATION OF RESULTS"
   ]
  },
  {
   "cell_type": "markdown",
   "id": "fbbeabcd",
   "metadata": {
    "id": "fbbeabcd"
   },
   "source": [
    "The recall values for both positive and negative classification goes down when stop word removal (fifth case) happens. The possible reason can be that with stop word removal few words that capture the true sentiment can be removed which can result into wrong classification of the comment whereas it improved the classification of neutral comments (indicated by higher recall value) as the dataset included neutral comments with words like \"average\".\n",
    "The precision rates for negative and positives were around 90 in almost all the cases that means,when the model classified the comment as negative or positive around 90% of times they were actually negative or positive respectively. Even with the high recall value for neutral class in fifth case the precision was low i.e., the model was not able to classify the neutral comment as neutral as much as we would want to.\n",
    "The precision of the neutral class was quite low compared to the positive and negative class in all the cases as the training data had less than half neutral comments as compared to positive and negative comments."
   ]
  }
 ],
 "metadata": {
  "colab": {
   "provenance": []
  },
  "kernelspec": {
   "display_name": "Python 3 (ipykernel)",
   "language": "python",
   "name": "python3"
  },
  "language_info": {
   "codemirror_mode": {
    "name": "ipython",
    "version": 3
   },
   "file_extension": ".py",
   "mimetype": "text/x-python",
   "name": "python",
   "nbconvert_exporter": "python",
   "pygments_lexer": "ipython3",
   "version": "3.9.15"
  }
 },
 "nbformat": 4,
 "nbformat_minor": 5
}
